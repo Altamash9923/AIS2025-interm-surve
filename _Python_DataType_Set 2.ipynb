{
  "cells": [
    {
      "cell_type": "markdown",
      "id": "3184703f-574a-407e-a71e-f3162bb50b90",
      "metadata": {},
      "source": [
        "# Python Data Type: Numbers\n",
        "\n",
        "## Introduction:\n",
        "Numbers are one of the fundamental data types in Python. They are used to store numeric values.\n",
        "\n",
        "## Key Points and Definition:\n",
        "- **int**: Integer values (e.g., 1, -3, 100)\n",
        "- **float**: Floating-point numbers (e.g., 3.14, -0.5)\n",
        "- **complex**: Complex numbers with a real and imaginary part (e.g., 2 + 3j)\n",
        "\n",
        "## Common Functions and Methods:"
      ]
    },
    {
      "cell_type": "code",
      "execution_count": 4,
      "id": "c61bae2c-80f3-4576-8895-cbf9163e232a",
      "metadata": {
        "trusted": true
      },
      "outputs": [
        {
          "name": "stdout",
          "output_type": "stream",
          "text": [
            "<class 'int'> 10\n",
            "<class 'float'> 3.14\n",
            "<class 'complex'> (2+3j)\n"
          ]
        }
      ],
      "source": [
        "# Examples of each type\n",
        "\n",
        "x = 10       # int\n",
        "y = 3.14     # float\n",
        "z = 2 + 3j   # complex\n",
        "\n",
        "print(type(x), x)\n",
        "print(type(y), y)\n",
        "print(type(z), z)\n"
      ]
    },
    {
      "cell_type": "code",
      "execution_count": 5,
      "id": "82288ab3-6284-4a8a-86a2-14a3df6dfaad",
      "metadata": {
        "trusted": true
      },
      "outputs": [
        {
          "name": "stdout",
          "output_type": "stream",
          "text": [
            "10.0\n",
            "3\n",
            "(10+0j)\n"
          ]
        }
      ],
      "source": [
        "# Type conversion\n",
        "print(float(x))\n",
        "print(int(y))\n",
        "print(complex(x))"
      ]
    },
    {
      "cell_type": "code",
      "execution_count": 6,
      "id": "9ba0a6d3-5185-4f97-bdd1-b41d563afd31",
      "metadata": {
        "trusted": true
      },
      "outputs": [
        {
          "name": "stdout",
          "output_type": "stream",
          "text": [
            "15 6.28 (1+2j)\n"
          ]
        }
      ],
      "source": [
        "# Basic operations\n",
        "print(x + 5, y * 2, z - (1 + 1j))"
      ]
    },
    {
      "cell_type": "markdown",
      "id": "06f02d74-7156-4b0d-aff5-75b9109ce970",
      "metadata": {},
      "source": [
        "## Quiz / Practice\n",
        "1. Create a variable of type float and convert it to int.\n",
        "2. Add two complex numbers.\n",
        "3. Try division and modulo operations with integers."
      ]
    },
    {
      "cell_type": "code",
      "execution_count": null,
      "id": "f4cef3e2-dff3-4cbb-bd71-ec5b758fa76f",
      "metadata": {
        "trusted": true
      },
      "outputs": [],
      "source": []
    }
  ],
  "metadata": {
    "kernelspec": {
      "display_name": "Python (Pyodide)",
      "language": "python",
      "name": "python"
    },
    "language_info": {
      "codemirror_mode": {
        "name": "python",
        "version": 3
      },
      "file_extension": ".py",
      "mimetype": "text/x-python",
      "name": "python",
      "nbconvert_exporter": "python",
      "pygments_lexer": "ipython3",
      "version": "3.8"
    }
  },
  "nbformat": 4,
  "nbformat_minor": 5
}
